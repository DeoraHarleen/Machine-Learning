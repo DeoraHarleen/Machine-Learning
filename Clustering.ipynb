{
  "nbformat": 4,
  "nbformat_minor": 0,
  "metadata": {
    "colab": {
      "provenance": [],
      "authorship_tag": "ABX9TyNaDyrMqFbZBTIZtmS1xi/s",
      "include_colab_link": true
    },
    "kernelspec": {
      "name": "python3",
      "display_name": "Python 3"
    },
    "language_info": {
      "name": "python"
    }
  },
  "cells": [
    {
      "cell_type": "markdown",
      "metadata": {
        "id": "view-in-github",
        "colab_type": "text"
      },
      "source": [
        "<a href=\"https://colab.research.google.com/github/DeoraHarleen/Machine-Learning/blob/main/Clustering.ipynb\" target=\"_parent\"><img src=\"https://colab.research.google.com/assets/colab-badge.svg\" alt=\"Open In Colab\"/></a>"
      ]
    },
    {
      "cell_type": "code",
      "source": [
        "import numpy as np\n",
        "import pandas as pd\n",
        "from sklearn.datasets import load_iris\n",
        "from sklearn.cluster import KMeans, AgglomerativeClustering\n",
        "from sklearn.preprocessing import StandardScaler\n",
        "from sklearn.decomposition import PCA\n",
        "from sklearn.metrics import silhouette_score, calinski_harabasz_score, davies_bouldin_score\n",
        "\n",
        "# Load the Iris dataset\n",
        "iris = load_iris()\n",
        "X = iris.data\n",
        "y = iris.target\n",
        "\n",
        "def perform_clustering(X, method, preprocessing=None):\n",
        "    if preprocessing == 'No data processing':\n",
        "        X_processed = X\n",
        "    elif preprocessing == 'Using normalization':\n",
        "        X_processed = StandardScaler().fit_transform(X)\n",
        "    elif preprocessing == 'Using transform':\n",
        "        X_processed = X # You can replace this with any transformation you want to apply\n",
        "    elif preprocessing == 'Using PCA':\n",
        "        X_processed = PCA(n_components=2).fit_transform(X)\n",
        "    elif preprocessing == 'Using T+N':\n",
        "        X_processed = StandardScaler().fit_transform(X)\n",
        "        X_processed = PCA(n_components=2).fit_transform(X_processed)\n",
        "    elif preprocessing == 'Using T+N+PCA':\n",
        "        X_processed = StandardScaler().fit_transform(X)\n",
        "        X_processed = PCA(n_components=2).fit_transform(X_processed)\n",
        "        # You can add more preprocessing steps here\n",
        "    else:\n",
        "        X_processed = X\n",
        "\n",
        "    if method == 'KMeans':\n",
        "        model = KMeans(n_clusters=3, random_state=42)\n",
        "    elif method == 'Hierarchical':\n",
        "        model = AgglomerativeClustering(n_clusters=3)\n",
        "    else:\n",
        "        return None\n",
        "\n",
        "    labels = model.fit_predict(X_processed)\n",
        "    silhouette = silhouette_score(X_processed, labels)\n",
        "    calinski = calinski_harabasz_score(X_processed, labels)\n",
        "    davies = davies_bouldin_score(X_processed, labels)\n",
        "\n",
        "    return silhouette, calinski, davies\n",
        "\n",
        "# Function to generate a table for a given clustering method\n",
        "def generate_table(method):\n",
        "    preprocessings = ['No data processing', 'Using normalization', 'Using transform', 'Using PCA', 'Using T+N', 'Using T+N+PCA']\n",
        "    scores = ['Silhouette', 'Calinski-Harabasz', 'Davies-Bouldin']\n",
        "    results = pd.DataFrame(columns=preprocessings, index=scores)\n",
        "    for preprocessing in preprocessings:\n",
        "        result = perform_clustering(X, method.split()[0], preprocessing)\n",
        "        if result is not None:\n",
        "            results[preprocessing] = result\n",
        "    return results\n",
        "\n",
        "# Generate tables for each clustering method\n",
        "kmeans_table = generate_table('KMeans')\n",
        "hierarchical_table = generate_table('Hierarchical')\n",
        "kmeans_shift_table = generate_table('KMeans Shift')\n",
        "\n",
        "# Print the tables\n",
        "print(\"KMeans Clustering Results:\")\n",
        "print(kmeans_table)\n",
        "print(\"\\nHierarchical Clustering Results:\")\n",
        "print(hierarchical_table)\n",
        "print(\"\\nKMeans Shift Clustering Results:\")\n",
        "print(kmeans_shift_table)\n",
        "\n",
        "# Save KMeans Clustering Results\n",
        "kmeans_table.to_csv('kmeans_results.csv')\n",
        "\n",
        "# Save Hierarchical Clustering Results\n",
        "hierarchical_table.to_csv('hierarchical_results.csv')\n",
        "\n",
        "# Save KMeans Shift Clustering Results\n",
        "kmeans_shift_table.to_csv('kmeans_shift_results.csv')\n",
        "\n",
        "print(\"Results saved successfully.\")"
      ],
      "metadata": {
        "colab": {
          "base_uri": "https://localhost:8080/"
        },
        "id": "bEAxCKa8cC0l",
        "outputId": "6584fab3-2127-409f-b1df-787bb2d58157"
      },
      "execution_count": 25,
      "outputs": [
        {
          "output_type": "stream",
          "name": "stderr",
          "text": [
            "/usr/local/lib/python3.10/dist-packages/sklearn/cluster/_kmeans.py:870: FutureWarning: The default value of `n_init` will change from 10 to 'auto' in 1.4. Set the value of `n_init` explicitly to suppress the warning\n",
            "  warnings.warn(\n",
            "/usr/local/lib/python3.10/dist-packages/sklearn/cluster/_kmeans.py:870: FutureWarning: The default value of `n_init` will change from 10 to 'auto' in 1.4. Set the value of `n_init` explicitly to suppress the warning\n",
            "  warnings.warn(\n",
            "/usr/local/lib/python3.10/dist-packages/sklearn/cluster/_kmeans.py:870: FutureWarning: The default value of `n_init` will change from 10 to 'auto' in 1.4. Set the value of `n_init` explicitly to suppress the warning\n",
            "  warnings.warn(\n",
            "/usr/local/lib/python3.10/dist-packages/sklearn/cluster/_kmeans.py:870: FutureWarning: The default value of `n_init` will change from 10 to 'auto' in 1.4. Set the value of `n_init` explicitly to suppress the warning\n",
            "  warnings.warn(\n",
            "/usr/local/lib/python3.10/dist-packages/sklearn/cluster/_kmeans.py:870: FutureWarning: The default value of `n_init` will change from 10 to 'auto' in 1.4. Set the value of `n_init` explicitly to suppress the warning\n",
            "  warnings.warn(\n",
            "/usr/local/lib/python3.10/dist-packages/sklearn/cluster/_kmeans.py:870: FutureWarning: The default value of `n_init` will change from 10 to 'auto' in 1.4. Set the value of `n_init` explicitly to suppress the warning\n",
            "  warnings.warn(\n",
            "/usr/local/lib/python3.10/dist-packages/sklearn/cluster/_kmeans.py:870: FutureWarning: The default value of `n_init` will change from 10 to 'auto' in 1.4. Set the value of `n_init` explicitly to suppress the warning\n",
            "  warnings.warn(\n",
            "/usr/local/lib/python3.10/dist-packages/sklearn/cluster/_kmeans.py:870: FutureWarning: The default value of `n_init` will change from 10 to 'auto' in 1.4. Set the value of `n_init` explicitly to suppress the warning\n",
            "  warnings.warn(\n",
            "/usr/local/lib/python3.10/dist-packages/sklearn/cluster/_kmeans.py:870: FutureWarning: The default value of `n_init` will change from 10 to 'auto' in 1.4. Set the value of `n_init` explicitly to suppress the warning\n",
            "  warnings.warn(\n",
            "/usr/local/lib/python3.10/dist-packages/sklearn/cluster/_kmeans.py:870: FutureWarning: The default value of `n_init` will change from 10 to 'auto' in 1.4. Set the value of `n_init` explicitly to suppress the warning\n",
            "  warnings.warn(\n"
          ]
        },
        {
          "output_type": "stream",
          "name": "stdout",
          "text": [
            "KMeans Clustering Results:\n",
            "                   No data processing  Using normalization  Using transform  \\\n",
            "Silhouette                   0.552819             0.459948         0.552819   \n",
            "Calinski-Harabasz          561.627757           241.904402       561.627757   \n",
            "Davies-Bouldin               0.661972             0.833595         0.661972   \n",
            "\n",
            "                    Using PCA   Using T+N  Using T+N+PCA  \n",
            "Silhouette           0.597676    0.509168       0.509168  \n",
            "Calinski-Harabasz  693.708433  293.856516     293.856516  \n",
            "Davies-Bouldin       0.564816    0.709931       0.709931  \n",
            "\n",
            "Hierarchical Clustering Results:\n",
            "                   No data processing  Using normalization  Using transform  \\\n",
            "Silhouette                   0.554324             0.446689         0.554324   \n",
            "Calinski-Harabasz          558.058041           222.719164       558.058041   \n",
            "Davies-Bouldin               0.656256             0.803467         0.656256   \n",
            "\n",
            "                    Using PCA   Using T+N  Using T+N+PCA  \n",
            "Silhouette           0.598475    0.511060       0.511060  \n",
            "Calinski-Harabasz  688.617548  286.328664     286.328664  \n",
            "Davies-Bouldin       0.560496    0.705430       0.705430  \n",
            "\n",
            "KMeans Shift Clustering Results:\n",
            "                   No data processing  Using normalization  Using transform  \\\n",
            "Silhouette                   0.552819             0.459948         0.552819   \n",
            "Calinski-Harabasz          561.627757           241.904402       561.627757   \n",
            "Davies-Bouldin               0.661972             0.833595         0.661972   \n",
            "\n",
            "                    Using PCA   Using T+N  Using T+N+PCA  \n",
            "Silhouette           0.597676    0.509168       0.509168  \n",
            "Calinski-Harabasz  693.708433  293.856516     293.856516  \n",
            "Davies-Bouldin       0.564816    0.709931       0.709931  \n",
            "Results saved successfully.\n"
          ]
        },
        {
          "output_type": "stream",
          "name": "stderr",
          "text": [
            "/usr/local/lib/python3.10/dist-packages/sklearn/cluster/_kmeans.py:870: FutureWarning: The default value of `n_init` will change from 10 to 'auto' in 1.4. Set the value of `n_init` explicitly to suppress the warning\n",
            "  warnings.warn(\n",
            "/usr/local/lib/python3.10/dist-packages/sklearn/cluster/_kmeans.py:870: FutureWarning: The default value of `n_init` will change from 10 to 'auto' in 1.4. Set the value of `n_init` explicitly to suppress the warning\n",
            "  warnings.warn(\n"
          ]
        }
      ]
    }
  ]
}